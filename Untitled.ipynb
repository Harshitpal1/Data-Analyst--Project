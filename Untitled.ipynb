{
 "cells": [
  {
   "cell_type": "code",
   "execution_count": 14,
   "id": "235b5b37-1f4a-4c68-83d3-da5b5272a316",
   "metadata": {},
   "outputs": [
    {
     "name": "stdout",
     "output_type": "stream",
     "text": [
      "                                            mean  median  mode     variance  \\\n",
      "Coal_RB_4800_FOB_London_Close_USD      87.953184   76.19   NaN  2237.618566   \n",
      "Coal_RB_5500_FOB_London_Close_USD     113.353155   95.80   NaN  3982.292145   \n",
      "Coal_RB_5700_FOB_London_Close_USD     134.971807  108.91   NaN  6001.971375   \n",
      "Coal_RB_6000_FOB_CurrentWeek_Avg_USD  144.351494  115.27   NaN  6972.281113   \n",
      "Coal_India_5500_CFR_London_Close_USD  123.759710  111.20   NaN  3192.491618   \n",
      "\n",
      "                                        std_dev   range  skewness  kurtosis  \n",
      "Coal_RB_4800_FOB_London_Close_USD     47.303473  274.34  1.310980  2.100975  \n",
      "Coal_RB_5500_FOB_London_Close_USD     63.105405  325.68  1.258757  1.116440  \n",
      "Coal_RB_5700_FOB_London_Close_USD     77.472391  367.66  1.276265  0.802399  \n",
      "Coal_RB_6000_FOB_CurrentWeek_Avg_USD  83.500186  383.69  1.267731  0.708799  \n",
      "Coal_India_5500_CFR_London_Close_USD  56.502138  271.08  0.861061  0.169605  \n"
     ]
    }
   ],
   "source": [
    "import pandas as pd\n",
    "import numpy as np\n",
    "from scipy.stats import skew, kurtosis, mode\n",
    "\n",
    "# Load dataset from Excel file\n",
    "df = pd.read_excel(r'C:\\Users\\palni\\Downloads\\Project 1\\Data-set.xlsx')\n",
    "\n",
    "# Select numeric columns only\n",
    "numeric_data = df.select_dtypes(include=[np.number])\n",
    "\n",
    "# Dictionary to store EDA results\n",
    "eda_results = {}\n",
    "\n",
    "for col in numeric_data.columns:\n",
    "    col_data = numeric_data[col].dropna()\n",
    "    \n",
    "    # Calculate mode (handle empty cases)\n",
    "    try:\n",
    "        mode_value = mode(col_data).mode[0]\n",
    "    except IndexError:\n",
    "        mode_value = np.nan\n",
    "    \n",
    "    eda_results[col] = {\n",
    "        'mean': col_data.mean(),\n",
    "        'median': col_data.median(),\n",
    "        'mode': mode_value,\n",
    "        'variance': col_data.var(),\n",
    "        'std_dev': col_data.std(),\n",
    "        'range': col_data.max() - col_data.min(),\n",
    "        'skewness': skew(col_data),\n",
    "        'kurtosis': kurtosis(col_data)\n",
    "    }\n",
    "\n",
    "# Create summary DataFrame\n",
    "eda_df = pd.DataFrame(eda_results).T\n",
    "\n",
    "# Save summary to CSV\n",
    "eda_df.to_csv('eda_summary.csv')\n",
    "\n",
    "# Display the first few rows\n",
    "print(eda_df.head())\n"
   ]
  },
  {
   "cell_type": "code",
   "execution_count": null,
   "id": "237b92b0-a699-464b-851d-3533b0cc84b4",
   "metadata": {},
   "outputs": [],
   "source": []
  },
  {
   "cell_type": "code",
   "execution_count": null,
   "id": "dd2e031b-a68a-4cf3-9c61-a2e60acf437f",
   "metadata": {},
   "outputs": [],
   "source": []
  }
 ],
 "metadata": {
  "kernelspec": {
   "display_name": "Python 3 (ipykernel)",
   "language": "python",
   "name": "python3"
  },
  "language_info": {
   "codemirror_mode": {
    "name": "ipython",
    "version": 3
   },
   "file_extension": ".py",
   "mimetype": "text/x-python",
   "name": "python",
   "nbconvert_exporter": "python",
   "pygments_lexer": "ipython3",
   "version": "3.12.7"
  }
 },
 "nbformat": 4,
 "nbformat_minor": 5
}
